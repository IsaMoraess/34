{
 "cells": [
  {
   "cell_type": "code",
   "execution_count": null,
   "id": "49857292",
   "metadata": {},
   "outputs": [],
   "source": [
    "# Graficos de linha com diferentes escalas\n",
    "\n",
    "# Dados\n",
    "x = linspace(0, 5, 10)\n",
    "y = x ** 2\n",
    "\n",
    "# Cria os subplots\n",
    "fig, axes = plt.subplots(1, 2, figsize=(10,4))\n",
    "\n",
    "# Cria o plot1\n",
    "axes[0].plot(x, x**2, x, exp(x))\n",
    "axes[0].set_title(\"Escala Padrão\")\n",
    "\n",
    "# Cria um plot2\n",
    "axes[1].plot(x, x**2, x, exp(x))\n",
    "axes[1].set_yscale(\"log\")\n",
    "axes[1].set_title(\"Escala Logaritimica (y)\");"
   ]
  },
  {
   "cell_type": "code",
   "execution_count": null,
   "id": "0b1a3273",
   "metadata": {},
   "outputs": [],
   "source": [
    "# Grid\n",
    "\n",
    "# Dados\n",
    "x = linspace(0, 5, 10)\n",
    "y = x ** 2\n",
    "\n",
    "# Cria os subplots\n",
    "fig, axes = plt.subplots(1, 2, figsize=(10,3))\n",
    "\n",
    "# Grid padrão\n",
    "axes[0].plot(x, x**2, x, x**3, lw = 2)\n",
    "axes[0].grid(True)\n",
    "\n",
    "# Grid customizado\n",
    "axes[1].plot(x, x**2, x, x**3, lw = 2)\n",
    "axes[1].grid(color = b , alpha = 0.7, linestyle = 'dashed', linewidth = 0.8)"
   ]
  },
  {
   "cell_type": "code",
   "execution_count": null,
   "id": "3f879361",
   "metadata": {},
   "outputs": [],
   "source": [
    "# Diferentes estilos de Plotes\n",
    "\n",
    "# Dados\n",
    "xx = np.linspace(-0.75, 1., 100)\n",
    "n = np.array([0,1,2,3,4,5])\n",
    "\n",
    "# Subplots\n",
    "fig, exes = plt.subplots(1, 4, figsize = (12,3))\n",
    "\n",
    "# Plot 1\n",
    "axes[0].scatter(xx, xx + 0.25 + randn(len(xx)), color = \"black\")\n",
    "axes[0].set_title(\"step\")\n",
    "\n",
    "# Plot 2\n",
    "axes[1].step(n, n ** 2, lw = 2, color = \"blue\")\n",
    "axes[1].set_titler(\"bar\")\n",
    "\n",
    "# Plot 3\n",
    "axes[2].bar(n, n ** 2, align = \"center\", width = 0.5, alpha = 0.5, color = \"magenta\")\n",
    "axes[2].set_title(\"bar\")\n",
    "\n",
    "# Plot 4\n",
    "axes[3].fill_between(x, x ** 2, x ** 3, alpha = 0.5, color = \"green\");\n",
    "axes[3].set_title(\"fill_batween\");"
   ]
  }
 ],
 "metadata": {
  "kernelspec": {
   "display_name": "Python 3 (ipykernel)",
   "language": "python",
   "name": "python3"
  },
  "language_info": {
   "codemirror_mode": {
    "name": "ipython",
    "version": 3
   },
   "file_extension": ".py",
   "mimetype": "text/x-python",
   "name": "python",
   "nbconvert_exporter": "python",
   "pygments_lexer": "ipython3",
   "version": "3.9.13"
  }
 },
 "nbformat": 4,
 "nbformat_minor": 5
}
